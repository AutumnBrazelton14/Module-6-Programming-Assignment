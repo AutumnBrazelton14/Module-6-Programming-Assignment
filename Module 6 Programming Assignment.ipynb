{
 "cells": [
  {
   "cell_type": "code",
   "execution_count": 2,
   "id": "77371bb2-6bed-4ea6-8b5b-619d783de07f",
   "metadata": {},
   "outputs": [
    {
     "name": "stdout",
     "output_type": "stream",
     "text": [
      "Date written to C:\\Users\\autum\\OneDrive\\Desktop\\today.txt\n"
     ]
    }
   ],
   "source": [
    "from datetime import date\n",
    "\n",
    "# Importing date\n",
    "current_date = date.today()\n",
    "\n",
    "# Formatting the date\n",
    "formatted_date = current_date.strftime('%m/%d/%Y')\n",
    "\n",
    "path = r'C:\\Users\\autum\\OneDrive\\Desktop\\today.txt'\n",
    "\n",
    "# Write the formatted date to the file\n",
    "with open(path, 'w') as file:\n",
    "    file.write(formatted_date)\n",
    "\n",
    "print(f\"Date written to {path}\")\n"
   ]
  },
  {
   "cell_type": "code",
   "execution_count": 4,
   "id": "57149027-cb9e-4980-bb66-515cf818d589",
   "metadata": {},
   "outputs": [
    {
     "name": "stdout",
     "output_type": "stream",
     "text": [
      "Content of today.txt: 09/24/2024\n"
     ]
    }
   ],
   "source": [
    "\n",
    "path = r'C:\\Users\\autum\\OneDrive\\Desktop\\today.txt'\n",
    "\n",
    "with open(path, 'r') as file:\n",
    "    today_string = file.read()\n",
    "\n",
    "print(\"Content of today.txt:\", today_string)\n"
   ]
  },
  {
   "cell_type": "code",
   "execution_count": 5,
   "id": "5000742f-f822-4ca0-812c-717f66c1d30e",
   "metadata": {},
   "outputs": [
    {
     "name": "stdout",
     "output_type": "stream",
     "text": [
      "Parsed date: 2024-09-24\n"
     ]
    }
   ],
   "source": [
    "from datetime import datetime\n",
    "\n",
    "# Parse the date from the string\n",
    "parsed_date = datetime.strptime(today_string, '%m/%d/%Y').date()\n",
    "\n",
    "print(\"Parsed date:\", parsed_date)\n"
   ]
  },
  {
   "cell_type": "code",
   "execution_count": 13,
   "id": "b9916f20-0c4e-40b9-a771-118beb5713da",
   "metadata": {},
   "outputs": [
    {
     "name": "stdout",
     "output_type": "stream",
     "text": [
      "All processes have completed.\n",
      "Code execution completed.\n"
     ]
    }
   ],
   "source": [
    "\n",
    "import multiprocessing\n",
    "import time\n",
    "import random\n",
    "from datetime import datetime\n",
    "\n",
    "def worker_process():\n",
    "    # Wait for a random time between 0 and 1 second\n",
    "    wait_time = random.random()\n",
    "    time.sleep(wait_time)\n",
    "    \n",
    "    # Get and print the current time\n",
    "    current_time = datetime.now().strftime(\"%H:%M:%S.%f\")\n",
    "    print(f\"Process {multiprocessing.current_process().name} - Current time: {current_time}\")\n",
    "\n",
    "if __name__ == \"__main__\":\n",
    "    # Creating three separate processes\n",
    "    processes = []\n",
    "    for i in range(3):\n",
    "        p = multiprocessing.Process(target=worker_process)\n",
    "        processes.append(p)\n",
    "        p.start()\n",
    "    \n",
    "    # Wait for all processes to complete\n",
    "    for p in processes:\n",
    "        p.join()\n",
    "    \n",
    "    print(\"All processes have completed.\")\n",
    "\n",
    "print(\"Code execution completed.\")"
   ]
  },
  {
   "cell_type": "code",
   "execution_count": null,
   "id": "cc3275d0-e9bf-4642-87dd-2befc1f9853d",
   "metadata": {},
   "outputs": [],
   "source": []
  }
 ],
 "metadata": {
  "kernelspec": {
   "display_name": "Python 3 (ipykernel)",
   "language": "python",
   "name": "python3"
  },
  "language_info": {
   "codemirror_mode": {
    "name": "ipython",
    "version": 3
   },
   "file_extension": ".py",
   "mimetype": "text/x-python",
   "name": "python",
   "nbconvert_exporter": "python",
   "pygments_lexer": "ipython3",
   "version": "3.12.4"
  }
 },
 "nbformat": 4,
 "nbformat_minor": 5
}
